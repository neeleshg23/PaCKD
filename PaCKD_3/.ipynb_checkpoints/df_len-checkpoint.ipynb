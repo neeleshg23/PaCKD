{
 "cells": [
  {
   "cell_type": "code",
   "execution_count": 1,
   "id": "b4379125-8dd9-4a05-9478-df4a209da45a",
   "metadata": {},
   "outputs": [
    {
     "name": "stderr",
     "output_type": "stream",
     "text": [
      "/home/pengmiao/anaconda3/envs/comp/lib/python3.8/site-packages/tqdm/auto.py:21: TqdmWarning: IProgress not found. Please update jupyter and ipywidgets. See https://ipywidgets.readthedocs.io/en/stable/user_install.html\n",
      "  from .autonotebook import tqdm as notebook_tqdm\n"
     ]
    },
    {
     "name": "stdout",
     "output_type": "stream",
     "text": [
      "app, clu, i bc-3 a 1 - len df 10228\n",
      "app, clu, i bc-3 a 2 - len df 19180\n",
      "app, clu, i bc-3 a 3 - len df 96636\n",
      "app, clu, i cc-13 a 1 - len df 25260\n",
      "app, clu, i cc-13 a 2 - len df 29356\n",
      "app, clu, i cc-13 a 3 - len df 7122\n",
      "app, clu, i pr-3 a 1 - len df 3528\n",
      "app, clu, i pr-3 a 2 - len df 29404\n",
      "app, clu, i pr-3 a 3 - len df 843\n",
      "app, clu, i sssp-3 a 1 - len df 9270\n",
      "app, clu, i sssp-3 a 2 - len df 41205\n",
      "app, clu, i sssp-3 a 3 - len df 4339\n",
      "app, clu, i bc-3 d 1 - len df 10624\n",
      "app, clu, i bc-3 d 2 - len df 47263\n",
      "app, clu, i bc-3 d 3 - len df 68157\n",
      "app, clu, i cc-13 d 1 - len df 11454\n",
      "app, clu, i cc-13 d 2 - len df 23453\n",
      "app, clu, i cc-13 d 3 - len df 26831\n",
      "app, clu, i pr-3 d 1 - len df 11317\n",
      "app, clu, i pr-3 d 2 - len df 11491\n",
      "app, clu, i pr-3 d 3 - len df 10967\n",
      "app, clu, i sssp-3 d 1 - len df 4925\n",
      "app, clu, i sssp-3 d 2 - len df 23219\n",
      "app, clu, i sssp-3 d 3 - len df 26670\n",
      "app, clu, i bc-3 i 1 - len df 124162\n",
      "app, clu, i bc-3 i 2 - len df 1882\n",
      "app, clu, i bc-3 i 3 - len df 0\n",
      "app, clu, i cc-13 i 1 - len df 60492\n",
      "app, clu, i cc-13 i 2 - len df 622\n",
      "app, clu, i cc-13 i 3 - len df 624\n",
      "app, clu, i pr-3 i 1 - len df 11316\n",
      "app, clu, i pr-3 i 2 - len df 11318\n",
      "app, clu, i pr-3 i 3 - len df 11141\n",
      "app, clu, i sssp-3 i 1 - len df 52677\n",
      "app, clu, i sssp-3 i 2 - len df 2129\n",
      "app, clu, i sssp-3 i 3 - len df 8\n"
     ]
    }
   ],
   "source": [
    "import torch\n",
    "import os\n",
    "\n",
    "base_dir = 'processed'\n",
    "app_list = ['bc-3', 'cc-13', 'pr-3', 'sssp-3']\n",
    "cluster_options = ['a', 'd', 'i']\n",
    "\n",
    "for c in cluster_options:\n",
    "    for app in app_list:\n",
    "        for i in range(1, 4):\n",
    "            df = torch.load(os.path.join(base_dir, c, f'{app}.df_{i}.pt'))\n",
    "            print(f'app, clu, i {app} {c} {i} - len df {len(df)}')"
   ]
  },
  {
   "cell_type": "code",
   "execution_count": null,
   "id": "68c82263-7981-47b5-a7de-5618bbf048b8",
   "metadata": {},
   "outputs": [],
   "source": []
  }
 ],
 "metadata": {
  "kernelspec": {
   "display_name": "Python 3 (ipykernel)",
   "language": "python",
   "name": "python3"
  },
  "language_info": {
   "codemirror_mode": {
    "name": "ipython",
    "version": 3
   },
   "file_extension": ".py",
   "mimetype": "text/x-python",
   "name": "python",
   "nbconvert_exporter": "python",
   "pygments_lexer": "ipython3",
   "version": "3.8.13"
  }
 },
 "nbformat": 4,
 "nbformat_minor": 5
}
