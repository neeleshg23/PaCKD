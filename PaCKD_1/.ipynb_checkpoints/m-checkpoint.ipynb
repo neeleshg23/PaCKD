{
 "cells": [
  {
   "cell_type": "code",
   "execution_count": null,
   "id": "595d6480-0bcd-46a1-a56d-4b64c12bc79d",
   "metadata": {},
   "outputs": [],
   "source": [
    "apps = [\n",
    "    'bc-3.txt.xz',\n",
    "    'bfs-3.txt.xz',\n",
    "    'cc-13.txt.xz',\n",
    "    'pr-3.txt.xz',\n",
    "    'sssp-3.txt.xz'\n",
    "]\n",
    "\n",
    "models = ['m']\n",
    "\n",
    "for app in apps:\n",
    "    for model in models:\n",
    "        !python src/train_stu.py {app} 0.5 {model} {model} 2"
   ]
  }
 ],
 "metadata": {
  "kernelspec": {
   "display_name": "Python 3 (ipykernel)",
   "language": "python",
   "name": "python3"
  },
  "language_info": {
   "codemirror_mode": {
    "name": "ipython",
    "version": 3
   },
   "file_extension": ".py",
   "mimetype": "text/x-python",
   "name": "python",
   "nbconvert_exporter": "python",
   "pygments_lexer": "ipython3",
   "version": "3.8.13"
  }
 },
 "nbformat": 4,
 "nbformat_minor": 5
}
