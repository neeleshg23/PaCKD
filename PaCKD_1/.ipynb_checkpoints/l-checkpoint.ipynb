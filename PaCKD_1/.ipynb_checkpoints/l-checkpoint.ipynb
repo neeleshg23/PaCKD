{
 "cells": [
  {
   "cell_type": "code",
   "execution_count": null,
   "id": "595d6480-0bcd-46a1-a56d-4b64c12bc79d",
   "metadata": {},
   "outputs": [
    {
     "name": "stdout",
     "output_type": "stream",
     "text": [
      "=================================================================\n",
      "Layer (type:depth-idx)                   Param #\n",
      "=================================================================\n",
      "LSTMModel                                --\n",
      "├─Flatten: 1-1                           --\n",
      "├─LSTM: 1-2                              7,552\n",
      "├─Linear: 1-3                            4,352\n",
      "=================================================================\n",
      "Total params: 11,904\n",
      "Trainable params: 11,904\n",
      "Non-trainable params: 0\n",
      "=================================================================\n",
      "=================================================================\n",
      "Layer (type:depth-idx)                   Param #\n",
      "=================================================================\n",
      "LSTMModel                                --\n",
      "├─Flatten: 1-1                           --\n",
      "├─LSTM: 1-2                              7,552\n",
      "├─Linear: 1-3                            4,352\n",
      "=================================================================\n",
      "Total params: 11,904\n",
      "Trainable params: 11,904\n",
      "Non-trainable params: 0\n",
      "=================================================================\n"
     ]
    }
   ],
   "source": [
    "apps = [\n",
    "    'bc-3.txt.xz',\n",
    "    'bfs-3.txt.xz',\n",
    "    'cc-13.txt.xz',\n",
    "    'pr-3.txt.xz',\n",
    "    'sssp-3.txt.xz'\n",
    "]\n",
    "\n",
    "models = ['l']\n",
    "\n",
    "for app in apps:\n",
    "    for model in models:\n",
    "        !python src/train_stu.py {app} 0.5 {model} {model} 3"
   ]
  }
 ],
 "metadata": {
  "kernelspec": {
   "display_name": "Python 3 (ipykernel)",
   "language": "python",
   "name": "python3"
  },
  "language_info": {
   "codemirror_mode": {
    "name": "ipython",
    "version": 3
   },
   "file_extension": ".py",
   "mimetype": "text/x-python",
   "name": "python",
   "nbconvert_exporter": "python",
   "pygments_lexer": "ipython3",
   "version": "3.8.13"
  }
 },
 "nbformat": 4,
 "nbformat_minor": 5
}
