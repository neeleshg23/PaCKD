{
 "cells": [
  {
   "cell_type": "code",
   "execution_count": 1,
   "id": "4c7beb99-5868-4f71-ad69-533b538aeb62",
   "metadata": {
    "scrolled": true,
    "tags": []
   },
   "outputs": [
    {
     "name": "stderr",
     "output_type": "stream",
     "text": [
      "/home/pengmiao/anaconda3/envs/comp/lib/python3.8/site-packages/tqdm/auto.py:21: TqdmWarning: IProgress not found. Please update jupyter and ipywidgets. See https://ipywidgets.readthedocs.io/en/stable/user_install.html\n",
      "  from .autonotebook import tqdm as notebook_tqdm\n"
     ]
    }
   ],
   "source": [
    "import torch\n",
    "import os\n",
    "import sys\n",
    "\n",
    "sys.path.insert(1, os.path.join(sys.path[0], 'src'))\n",
    "\n",
    "processed_dir = '/data/pengmiao/PaCKD_0/processed'\n",
    "\n",
    "train_loader = torch.load(os.path.join(processed_dir, f\"bc-3.train.pt\"))\n",
    "test_loader = torch.load(os.path.join(processed_dir, f\"bc-3.test.pt\"))"
   ]
  },
  {
   "cell_type": "code",
   "execution_count": 7,
   "id": "b0ded044-6498-4b2b-961e-5e94ca45f8b0",
   "metadata": {},
   "outputs": [],
   "source": [
    "from utils import select_tch\n",
    "\n",
    "device = torch.device(f\"cuda:2\" if torch.cuda.is_available() else \"cpu\")\n",
    "\n",
    "model = select_tch('r')\n",
    "model = model.to(device)"
   ]
  },
  {
   "cell_type": "code",
   "execution_count": 3,
   "id": "3ef3f555-7e64-4f62-bbbf-dc5c47af04cf",
   "metadata": {},
   "outputs": [],
   "source": [
    "sigmoid = torch.nn.Sigmoid()\n",
    "import torch.nn.functional as F\n",
    "\n",
    "def train(ep, train_loader, model_save_path):\n",
    "    global steps\n",
    "    epoch_loss = 0\n",
    "    model.train()\n",
    "    for batch_idx, (data, target) in enumerate(train_loader):#d,t: (torch.Size([64, 1, 784]),64)        \n",
    "        optimizer.zero_grad()\n",
    "        output = sigmoid(model(data))\n",
    "        loss = F.binary_cross_entropy(output, target, reduction='mean')\n",
    "        optimizer.zero_grad()\n",
    "        loss.backward()\n",
    "        optimizer.step()\n",
    "        epoch_loss += loss.item()\n",
    "    epoch_loss/=len(train_loader)\n",
    "    return epoch_loss\n",
    "\n",
    "\n",
    "def test(test_loader):\n",
    "    model.eval()\n",
    "    test_loss = 0\n",
    "    correct = 0\n",
    "    with torch.no_grad():\n",
    "        for data, target in test_loader:\n",
    "            output = sigmoid(model(data))\n",
    "            test_loss += F.binary_cross_entropy(output, target, reduction='mean').item()\n",
    "            thresh=0.5\n",
    "            output_bin=(output>=thresh)*1\n",
    "            correct+=(output_bin&target.int()).sum()\n",
    "        test_loss /=  len(test_loader)\n",
    "        return test_loss"
   ]
  },
  {
   "cell_type": "code",
   "execution_count": 4,
   "id": "e89b4d2f-1218-411a-925f-c73665d0bff9",
   "metadata": {},
   "outputs": [],
   "source": [
    "import csv\n",
    "\n",
    "def run_epoch(epochs, early_stop, loading, model_save_path, train_loader, test_loader, tsv_path, model):\n",
    "    if loading==True:\n",
    "        model.load_state_dict(torch.load(model_save_path))\n",
    "        print(\"-------------Model Loaded------------\")\n",
    "        \n",
    "    best_loss=0\n",
    "    early_stop = early_stop\n",
    "    curr_early_stop = early_stop\n",
    "\n",
    "    metrics_data = []\n",
    "\n",
    "    for epoch in range(epochs):\n",
    "\n",
    "        train_loss=train(epoch,train_loader,model_save_path)\n",
    "        test_loss=test(test_loader)\n",
    "        print((f\"Epoch: {epoch+1} - loss: {train_loss:.10f} - test_loss: {test_loss:.10f}\"))\n",
    "        \n",
    "        if epoch == 0:\n",
    "            best_loss=test_loss\n",
    "        if test_loss<=best_loss:\n",
    "            torch.save(model.state_dict(), model_save_path)    \n",
    "            best_loss=test_loss\n",
    "            print(\"-------- Save Best Model! --------\")\n",
    "            curr_early_stop = early_stop\n",
    "        else:\n",
    "            curr_early_stop -= 1\n",
    "            print(\"Early Stop Left: {}\".format(curr_early_stop))\n",
    "        if curr_early_stop == 0:\n",
    "            print(\"-------- Early Stop! --------\")\n",
    "            break\n",
    "\n",
    "        metrics_data.append([epoch+1, train_loss, test_loss])\n",
    "\n",
    "    with open(tsv_path, 'w') as file:\n",
    "        writer = csv.writer(file, delimiter='\\t')\n",
    "        writer.writerow(['Epoch', 'Train Loss', 'Test Loss'])\n",
    "        writer.writerows(metrics_data)"
   ]
  },
  {
   "cell_type": "markdown",
   "id": "c5f7ac37-e94a-49b6-ba4d-93d6da11539c",
   "metadata": {},
   "source": [
    "Baseline Teacher R Training No Cluster No KD, lr = 0.0005"
   ]
  },
  {
   "cell_type": "code",
   "execution_count": null,
   "id": "52e2cb1b-eb55-4f0b-a268-23f30e75672e",
   "metadata": {},
   "outputs": [
    {
     "name": "stdout",
     "output_type": "stream",
     "text": [
      "Epoch: 1 - loss: 0.2245028114 - test_loss: 0.2189558178\n",
      "-------- Save Best Model! --------\n",
      "Epoch: 2 - loss: 0.2252602793 - test_loss: 0.2233707790\n",
      "Early Stop Left: 14\n",
      "Epoch: 3 - loss: 0.2224036560 - test_loss: 0.2943823651\n",
      "Early Stop Left: 13\n",
      "Epoch: 4 - loss: 0.2222977377 - test_loss: 0.2214530328\n",
      "Early Stop Left: 12\n",
      "Epoch: 5 - loss: 0.2219941840 - test_loss: 0.2131103262\n",
      "-------- Save Best Model! --------\n",
      "Epoch: 6 - loss: 0.2228332990 - test_loss: 0.2350406584\n",
      "Early Stop Left: 14\n",
      "Epoch: 8 - loss: 0.2237195330 - test_loss: 0.2279378600\n",
      "Early Stop Left: 14\n",
      "Epoch: 9 - loss: 0.2222437938 - test_loss: 0.2085595350\n",
      "Early Stop Left: 13\n",
      "Epoch: 10 - loss: 0.2227702274 - test_loss: 0.2058029802\n",
      "-------- Save Best Model! --------\n",
      "Epoch: 11 - loss: 0.2217662464 - test_loss: 0.2221409752\n",
      "Early Stop Left: 14\n",
      "Epoch: 12 - loss: 0.2220092879 - test_loss: 0.2046922247\n",
      "-------- Save Best Model! --------\n",
      "Epoch: 13 - loss: 0.2224930762 - test_loss: 0.2123219064\n",
      "Early Stop Left: 14\n",
      "Epoch: 14 - loss: 0.2213881759 - test_loss: 0.2152975515\n",
      "Early Stop Left: 13\n",
      "Epoch: 15 - loss: 0.2239991397 - test_loss: 0.2683815223\n",
      "Early Stop Left: 12\n",
      "Epoch: 16 - loss: 0.2216159097 - test_loss: 0.2650438426\n",
      "Early Stop Left: 11\n",
      "Epoch: 17 - loss: 0.2216807582 - test_loss: 0.2146603566\n",
      "Early Stop Left: 10\n",
      "Epoch: 18 - loss: 0.2233821968 - test_loss: 0.2095202097\n",
      "Early Stop Left: 9\n",
      "Epoch: 19 - loss: 0.2221216439 - test_loss: 0.2053610778\n",
      "Early Stop Left: 8\n",
      "Epoch: 20 - loss: 0.2214677873 - test_loss: 0.2138758382\n",
      "Early Stop Left: 7\n",
      "Epoch: 21 - loss: 0.2221466468 - test_loss: 0.2112882625\n",
      "Early Stop Left: 6\n",
      "Epoch: 22 - loss: 0.2223412266 - test_loss: 0.2375661330\n",
      "Early Stop Left: 5\n"
     ]
    }
   ],
   "source": [
    "import torch.optim as optim\n",
    "from torch.optim.lr_scheduler import StepLR\n",
    "\n",
    "from data_loader import init_dataloader\n",
    "\n",
    "device = torch.device(f\"cuda:2\" if torch.cuda.is_available() else \"cpu\")\n",
    "\n",
    "optimizer = optim.Adam(model.parameters(), lr=0.0005)\n",
    "scheduler = StepLR(optimizer, step_size=20, gamma=0.1)\n",
    "\n",
    "epochs = 50\n",
    "early_stop = 15\n",
    "loading = False\n",
    "model_save_path = '/data/pengmiao/PaCKD_1/model/bc-3.teacher.lr.5.r.pth'\n",
    "tsv_path = '/data/pengmiao/PaCKD_1/model/bc-3.teacher.lr.5.r.tsv'\n",
    "\n",
    "init_dataloader('2')\n",
    "\n",
    "run_epoch(epochs, early_stop, loading, model_save_path, train_loader, test_loader, tsv_path, model)"
   ]
  },
  {
   "cell_type": "code",
   "execution_count": null,
   "id": "abda7b0c-39f8-45d9-b26a-cfcfe15ae505",
   "metadata": {},
   "outputs": [],
   "source": [
    "test_df = torch.load(os.path.join(processed_dir, 'bc-3.df.pt'))\n",
    "\n",
    "res = run_val(test_loader, test_df, 'bc-3.txt.xz', model_save_path) "
   ]
  },
  {
   "cell_type": "code",
   "execution_count": null,
   "id": "346240b1-74dd-4bea-b39d-5e40d16d0b4b",
   "metadata": {},
   "outputs": [],
   "source": []
  }
 ],
 "metadata": {
  "kernelspec": {
   "display_name": "comp",
   "language": "python",
   "name": "comp"
  },
  "language_info": {
   "codemirror_mode": {
    "name": "ipython",
    "version": 3
   },
   "file_extension": ".py",
   "mimetype": "text/x-python",
   "name": "python",
   "nbconvert_exporter": "python",
   "pygments_lexer": "ipython3",
   "version": "3.8.13"
  }
 },
 "nbformat": 4,
 "nbformat_minor": 5
}
