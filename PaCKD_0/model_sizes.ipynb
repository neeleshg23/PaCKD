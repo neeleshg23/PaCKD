{
 "cells": [
  {
   "cell_type": "code",
   "execution_count": 20,
   "id": "26000c2e-e91f-4c1f-872e-343efc660123",
   "metadata": {},
   "outputs": [
    {
     "data": {
      "text/plain": [
       "=================================================================\n",
       "Layer (type:depth-idx)                   Param #\n",
       "=================================================================\n",
       "Sequential                               --\n",
       "├─Rearrange: 1-1                         --\n",
       "├─Linear: 1-2                            1,818\n",
       "├─Sequential: 1-3                        --\n",
       "│    └─PreNormResidual: 2-1              --\n",
       "│    │    └─Sequential: 3-1              13\n",
       "│    │    └─LayerNorm: 3-2               36\n",
       "│    └─PreNormResidual: 2-2              --\n",
       "│    │    └─Sequential: 3-3              351\n",
       "│    │    └─LayerNorm: 3-4               36\n",
       "├─Sequential: 1-4                        --\n",
       "│    └─PreNormResidual: 2-3              --\n",
       "│    │    └─Sequential: 3-5              13\n",
       "│    │    └─LayerNorm: 3-6               36\n",
       "│    └─PreNormResidual: 2-4              --\n",
       "│    │    └─Sequential: 3-7              351\n",
       "│    │    └─LayerNorm: 3-8               36\n",
       "├─Sequential: 1-5                        --\n",
       "│    └─PreNormResidual: 2-5              --\n",
       "│    │    └─Sequential: 3-9              13\n",
       "│    │    └─LayerNorm: 3-10              36\n",
       "│    └─PreNormResidual: 2-6              --\n",
       "│    │    └─Sequential: 3-11             351\n",
       "│    │    └─LayerNorm: 3-12              36\n",
       "├─Sequential: 1-6                        --\n",
       "│    └─PreNormResidual: 2-7              --\n",
       "│    │    └─Sequential: 3-13             13\n",
       "│    │    └─LayerNorm: 3-14              36\n",
       "│    └─PreNormResidual: 2-8              --\n",
       "│    │    └─Sequential: 3-15             351\n",
       "│    │    └─LayerNorm: 3-16              36\n",
       "├─Sequential: 1-7                        --\n",
       "│    └─PreNormResidual: 2-9              --\n",
       "│    │    └─Sequential: 3-17             13\n",
       "│    │    └─LayerNorm: 3-18              36\n",
       "│    └─PreNormResidual: 2-10             --\n",
       "│    │    └─Sequential: 3-19             351\n",
       "│    │    └─LayerNorm: 3-20              36\n",
       "├─Sequential: 1-8                        --\n",
       "│    └─PreNormResidual: 2-11             --\n",
       "│    │    └─Sequential: 3-21             13\n",
       "│    │    └─LayerNorm: 3-22              36\n",
       "│    └─PreNormResidual: 2-12             --\n",
       "│    │    └─Sequential: 3-23             351\n",
       "│    │    └─LayerNorm: 3-24              36\n",
       "├─Sequential: 1-9                        --\n",
       "│    └─PreNormResidual: 2-13             --\n",
       "│    │    └─Sequential: 3-25             13\n",
       "│    │    └─LayerNorm: 3-26              36\n",
       "│    └─PreNormResidual: 2-14             --\n",
       "│    │    └─Sequential: 3-27             351\n",
       "│    │    └─LayerNorm: 3-28              36\n",
       "├─Sequential: 1-10                       --\n",
       "│    └─PreNormResidual: 2-15             --\n",
       "│    │    └─Sequential: 3-29             13\n",
       "│    │    └─LayerNorm: 3-30              36\n",
       "│    └─PreNormResidual: 2-16             --\n",
       "│    │    └─Sequential: 3-31             351\n",
       "│    │    └─LayerNorm: 3-32              36\n",
       "├─LayerNorm: 1-11                        36\n",
       "├─Reduce: 1-12                           --\n",
       "├─Linear: 1-13                           4,864\n",
       "=================================================================\n",
       "Total params: 10,206\n",
       "Trainable params: 10,206\n",
       "Non-trainable params: 0\n",
       "================================================================="
      ]
     },
     "execution_count": 20,
     "metadata": {},
     "output_type": "execute_result"
    }
   ],
   "source": [
    "import sys, os\n",
    "sys.path.insert(1, os.path.join(sys.path[0], 'src'))\n",
    "\n",
    "from src.utils import select_tch, select_stu\n",
    "from torchinfo import summary\n",
    "\n",
    "rModel = select_stu('m')\n",
    "summary(rModel)"
   ]
  },
  {
   "cell_type": "code",
   "execution_count": 21,
   "id": "b69a4aa1-50ad-4d25-9a11-7bb57f348e3d",
   "metadata": {
    "tags": []
   },
   "outputs": [
    {
     "data": {
      "text/plain": [
       "=================================================================\n",
       "Layer (type:depth-idx)                   Param #\n",
       "=================================================================\n",
       "ResNet_tiny                              --\n",
       "├─Sequential: 1-1                        --\n",
       "│    └─Conv2d: 2-1                       36\n",
       "│    └─BatchNorm2d: 2-2                  8\n",
       "│    └─ReLU: 2-3                         --\n",
       "├─Sequential: 1-2                        --\n",
       "│    └─BasicBlock: 2-4                   --\n",
       "│    │    └─Sequential: 3-1              304\n",
       "│    │    └─Sequential: 3-2              --\n",
       "├─Sequential: 1-3                        --\n",
       "│    └─BasicBlock: 2-5                   --\n",
       "│    │    └─Sequential: 3-3              896\n",
       "│    │    └─Sequential: 3-4              48\n",
       "├─Sequential: 1-4                        --\n",
       "│    └─BasicBlock: 2-6                   --\n",
       "│    │    └─Sequential: 3-5              3,520\n",
       "│    │    └─Sequential: 3-6              160\n",
       "├─AdaptiveAvgPool2d: 1-5                 --\n",
       "├─Linear: 1-6                            4,352\n",
       "=================================================================\n",
       "Total params: 9,324\n",
       "Trainable params: 9,324\n",
       "Non-trainable params: 0\n",
       "================================================================="
      ]
     },
     "execution_count": 21,
     "metadata": {},
     "output_type": "execute_result"
    }
   ],
   "source": [
    "from src.utils import select_stu\n",
    "stuM = select_stu('r')\n",
    "summary(stuM)"
   ]
  },
  {
   "cell_type": "code",
   "execution_count": null,
   "id": "0734f077-c28b-4fba-9692-38f50995267b",
   "metadata": {},
   "outputs": [],
   "source": []
  },
  {
   "cell_type": "code",
   "execution_count": null,
   "id": "f3247052-738a-4346-bb64-b4a4efe6cc21",
   "metadata": {},
   "outputs": [],
   "source": []
  }
 ],
 "metadata": {
  "kernelspec": {
   "display_name": "Python 3 (ipykernel)",
   "language": "python",
   "name": "python3"
  },
  "language_info": {
   "codemirror_mode": {
    "name": "ipython",
    "version": 3
   },
   "file_extension": ".py",
   "mimetype": "text/x-python",
   "name": "python",
   "nbconvert_exporter": "python",
   "pygments_lexer": "ipython3",
   "version": "3.8.13"
  }
 },
 "nbformat": 4,
 "nbformat_minor": 5
}
