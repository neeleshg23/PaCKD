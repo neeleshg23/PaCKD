{
 "cells": [
  {
   "cell_type": "code",
   "execution_count": 1,
   "id": "b4379125-8dd9-4a05-9478-df4a209da45a",
   "metadata": {},
   "outputs": [
    {
     "name": "stderr",
     "output_type": "stream",
     "text": [
      "/home/pengmiao/anaconda3/envs/comp/lib/python3.8/site-packages/tqdm/auto.py:21: TqdmWarning: IProgress not found. Please update jupyter and ipywidgets. See https://ipywidgets.readthedocs.io/en/stable/user_install.html\n",
      "  from .autonotebook import tqdm as notebook_tqdm\n"
     ]
    },
    {
     "name": "stdout",
     "output_type": "stream",
     "text": [
      "app, clu, i bc-3 a 1 - len df 93179\n",
      "app, clu, i bc-3 a 2 - len df 32865\n",
      "app, clu, i cc-13 a 1 - len df 31179\n",
      "app, clu, i cc-13 a 2 - len df 30559\n",
      "app, clu, i pr-3 a 1 - len df 30273\n",
      "app, clu, i pr-3 a 2 - len df 3502\n",
      "app, clu, i sssp-3 a 1 - len df 45306\n",
      "app, clu, i sssp-3 a 2 - len df 9508\n",
      "app, clu, i bc-3 d 1 - len df 126044\n",
      "app, clu, i bc-3 d 2 - len df 154193\n",
      "app, clu, i cc-13 d 1 - len df 61738\n",
      "app, clu, i cc-13 d 2 - len df 97989\n",
      "app, clu, i pr-3 d 1 - len df 11904\n",
      "app, clu, i pr-3 d 2 - len df 21871\n",
      "app, clu, i sssp-3 d 1 - len df 54814\n",
      "app, clu, i sssp-3 d 2 - len df 63425\n",
      "app, clu, i bc-3 i 1 - len df 126044\n",
      "app, clu, i bc-3 i 2 - len df 2930\n",
      "app, clu, i cc-13 i 1 - len df 61738\n",
      "app, clu, i cc-13 i 2 - len df 2121\n",
      "app, clu, i pr-3 i 1 - len df 33775\n",
      "app, clu, i pr-3 i 2 - len df 19452\n",
      "app, clu, i sssp-3 i 1 - len df 54814\n",
      "app, clu, i sssp-3 i 2 - len df 30\n"
     ]
    }
   ],
   "source": [
    "import torch\n",
    "import os\n",
    "\n",
    "base_dir = 'processed'\n",
    "app_list = ['bc-3', 'cc-13', 'pr-3', 'sssp-3']\n",
    "cluster_options = ['a', 'd', 'i']\n",
    "\n",
    "for c in cluster_options:\n",
    "    for app in app_list:\n",
    "        for i in range(1, 3):\n",
    "            df = torch.load(os.path.join(base_dir, c, f'{app}.df_{i}.pt'))\n",
    "            print(f'app, clu, i {app} {c} {i} - len df {len(df)}')"
   ]
  },
  {
   "cell_type": "code",
   "execution_count": null,
   "id": "68c82263-7981-47b5-a7de-5618bbf048b8",
   "metadata": {},
   "outputs": [],
   "source": []
  }
 ],
 "metadata": {
  "kernelspec": {
   "display_name": "Python 3 (ipykernel)",
   "language": "python",
   "name": "python3"
  },
  "language_info": {
   "codemirror_mode": {
    "name": "ipython",
    "version": 3
   },
   "file_extension": ".py",
   "mimetype": "text/x-python",
   "name": "python",
   "nbconvert_exporter": "python",
   "pygments_lexer": "ipython3",
   "version": "3.8.13"
  }
 },
 "nbformat": 4,
 "nbformat_minor": 5
}
