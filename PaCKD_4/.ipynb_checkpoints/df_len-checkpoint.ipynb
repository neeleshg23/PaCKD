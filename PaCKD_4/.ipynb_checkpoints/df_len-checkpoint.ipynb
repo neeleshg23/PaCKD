{
 "cells": [
  {
   "cell_type": "code",
   "execution_count": null,
   "id": "b4379125-8dd9-4a05-9478-df4a209da45a",
   "metadata": {},
   "outputs": [
    {
     "name": "stderr",
     "output_type": "stream",
     "text": [
      "/home/pengmiao/anaconda3/envs/comp/lib/python3.8/site-packages/tqdm/auto.py:21: TqdmWarning: IProgress not found. Please update jupyter and ipywidgets. See https://ipywidgets.readthedocs.io/en/stable/user_install.html\n",
      "  from .autonotebook import tqdm as notebook_tqdm\n"
     ]
    },
    {
     "name": "stdout",
     "output_type": "stream",
     "text": [
      "app, clu, i bc-3 a 1 - len df 7590\n",
      "app, clu, i bc-3 a 2 - len df 93518\n",
      "app, clu, i bc-3 a 3 - len df 9893\n",
      "app, clu, i bc-3 a 4 - len df 15043\n",
      "app, clu, i cc-13 a 1 - len df 26071\n",
      "app, clu, i cc-13 a 2 - len df 6896\n",
      "app, clu, i cc-13 a 3 - len df 22053\n",
      "app, clu, i cc-13 a 4 - len df 6718\n",
      "app, clu, i pr-3 a 1 - len df 2743\n",
      "app, clu, i pr-3 a 2 - len df 29403\n",
      "app, clu, i pr-3 a 3 - len df 770\n",
      "app, clu, i pr-3 a 4 - len df 859\n",
      "app, clu, i sssp-3 a 1 - len df 4303\n",
      "app, clu, i sssp-3 a 2 - len df 11129\n",
      "app, clu, i sssp-3 a 3 - len df 30668\n",
      "app, clu, i sssp-3 a 4 - len df 8714\n",
      "app, clu, i bc-3 d 1 - len df 694\n",
      "app, clu, i bc-3 d 2 - len df 29281\n",
      "app, clu, i bc-3 d 3 - len df 54637\n",
      "app, clu, i bc-3 d 4 - len df 41432\n",
      "app, clu, i cc-13 d 1 - len df 4068\n",
      "app, clu, i cc-13 d 2 - len df 22262\n",
      "app, clu, i cc-13 d 3 - len df 16815\n",
      "app, clu, i cc-13 d 4 - len df 18593\n",
      "app, clu, i pr-3 d 1 - len df 11140\n",
      "app, clu, i pr-3 d 2 - len df 10785\n",
      "app, clu, i pr-3 d 3 - len df 10965\n",
      "app, clu, i pr-3 d 4 - len df 885\n",
      "app, clu, i sssp-3 d 1 - len df 3184\n",
      "app, clu, i sssp-3 d 2 - len df 17520\n",
      "app, clu, i sssp-3 d 3 - len df 18511\n",
      "app, clu, i sssp-3 d 4 - len df 15599\n"
     ]
    }
   ],
   "source": [
    "import torch\n",
    "import os\n",
    "\n",
    "base_dir = 'processed'\n",
    "app_list = ['bc-3', 'cc-13', 'pr-3', 'sssp-3']\n",
    "cluster_options = ['a', 'd', 'i']\n",
    "\n",
    "for c in cluster_options:\n",
    "    for app in app_list:\n",
    "        for i in range(1, 5):\n",
    "            df = torch.load(os.path.join(base_dir, c, f'{app}.df_{i}.pt'))\n",
    "            print(f'app, clu, i {app} {c} {i} - len df {len(df)}')"
   ]
  }
 ],
 "metadata": {
  "kernelspec": {
   "display_name": "Python 3 (ipykernel)",
   "language": "python",
   "name": "python3"
  },
  "language_info": {
   "codemirror_mode": {
    "name": "ipython",
    "version": 3
   },
   "file_extension": ".py",
   "mimetype": "text/x-python",
   "name": "python",
   "nbconvert_exporter": "python",
   "pygments_lexer": "ipython3",
   "version": "3.8.13"
  }
 },
 "nbformat": 4,
 "nbformat_minor": 5
}
